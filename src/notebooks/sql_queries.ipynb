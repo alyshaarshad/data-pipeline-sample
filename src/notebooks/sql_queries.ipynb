{
 "cells": [
  {
   "attachments": {},
   "cell_type": "markdown",
   "metadata": {},
   "source": [
    "## SQL queries (RUN LOCALLY ONLY)\n",
    "\n",
    "### These SQL queries are based on the requirements of the Data analytics team: \n",
    "\n",
    "1. List the most active users\n",
    "2. List longest open event (for Issue from started_at to closed_at for PullRequest from created_at to merged_at )\n",
    "3. List the most popular five tags for all repositories (or label for Issue)\n",
    "4. List the total completed event count per repository for a given period\n",
    "5. List top users based on number of repositories they contributed\n",
    "\n",
    "##TODO : MAKE THIS RUN IN CONTAINER USING DOCKERFILE"
   ]
  },
  {
   "cell_type": "code",
   "execution_count": null,
   "metadata": {},
   "outputs": [],
   "source": [
    "# Importing the .env variables \n",
    "\n",
    "import os\n",
    "from dotenv import load_dotenv\n",
    "\n",
    "# Path to the .env file\n",
    "env_path = '.\\.\\.env'\n",
    "\n",
    "# Load the environment variables from the .env file\n",
    "load_dotenv(dotenv_path=env_path)\n",
    "\n",
    "# Access the environment variables\n",
    "DB_HOST = os.getenv('DB_HOST')\n",
    "DB_PORT = os.getenv('DB_PORT')\n",
    "DB_USER = os.getenv('DB_USER')\n",
    "DB_PASSWORD = os.getenv('DB_PASSWORD')\n",
    "DB_NAME = os.getenv('DB_NAME')\n",
    "TABLE_NAME = os.getenv('TABLE_NAME')\n"
   ]
  },
  {
   "cell_type": "code",
   "execution_count": null,
   "metadata": {},
   "outputs": [],
   "source": [
    "#Initialising the connection to the MySQL database\n",
    "import mysql.connector\n",
    "\n",
    "cnx = mysql.connector.connect(\n",
    "    user=DB_USER,\n",
    "    port=DB_PORT,\n",
    "    password=DB_PASSWORD,\n",
    "    host='localhost',\n",
    "    database=DB_NAME\n",
    ")\n",
    "\n",
    "cursor = cnx.cursor()"
   ]
  },
  {
   "attachments": {},
   "cell_type": "markdown",
   "metadata": {},
   "source": [
    "### Queries as per the requirements\n"
   ]
  },
  {
   "cell_type": "code",
   "execution_count": null,
   "metadata": {},
   "outputs": [],
   "source": [
    "# List the most active users\n",
    "query1 = f\"\"\"\n",
    "SELECT user, COUNT(*) AS event_count\n",
    "FROM {TABLE_NAME}\n",
    "GROUP BY user\n",
    "ORDER BY event_count DESC\n",
    "LIMIT 10;\n",
    "\"\"\"\n",
    "\n",
    "cursor.execute(query1)\n",
    "result1 = cursor.fetchall()\n",
    "print(result1)\n"
   ]
  },
  {
   "cell_type": "code",
   "execution_count": null,
   "metadata": {},
   "outputs": [],
   "source": [
    "query2 = F\"\"\"\n",
    "SELECT id, title, user, repository_name, repository_owner, created_at, merged_at, TIMESTAMPDIFF(day, created_at, COALESCE(merged_at, NOW())) AS days_open \n",
    "FROM {TABLE_NAME}\n",
    "WHERE state = 'open' OR (state = 'closed' AND merged_at BETWEEN 'start_date' AND 'end_date')\n",
    "ORDER BY days_open DESC\n",
    "LIMIT 5;\n",
    "\"\"\"\n",
    "\n",
    "cursor.execute(query2)\n",
    "result2 = cursor.fetchall()\n",
    "print(result2)\n",
    "\n"
   ]
  },
  {
   "cell_type": "code",
   "execution_count": null,
   "metadata": {},
   "outputs": [],
   "source": [
    "# List the most popular five tags for all repositories\n",
    "query3 = f\"\"\"\n",
    "SELECT tags, COUNT(*) AS tag_count\n",
    "FROM {TABLE_NAME}\n",
    "WHERE tags IS NOT NULL\n",
    "GROUP BY tags\n",
    "ORDER BY tag_count DESC\n",
    "LIMIT 5;\n",
    "\"\"\"\n",
    "\n",
    "cursor.execute(query3)\n",
    "result3 = cursor.fetchall()\n",
    "print(result3)"
   ]
  },
  {
   "cell_type": "code",
   "execution_count": null,
   "metadata": {},
   "outputs": [],
   "source": [
    "# List the total completed event count per repository for a given period\n",
    "start_date = '2022-01-01'\n",
    "end_date = '2022-12-31'\n",
    "\n",
    "query4 = f\"\"\"\n",
    "SELECT repository_name, COUNT(*) AS completed_event_count\n",
    "FROM {TABLE_NAME}\n",
    "WHERE state = 'closed' AND merged_at BETWEEN '{start_date}' AND '{end_date}'\n",
    "GROUP BY repository_name;\n",
    "\"\"\"\n",
    "\n",
    "cursor.execute(query4)\n",
    "result4 = cursor.fetchall()\n",
    "print(result4)\n"
   ]
  },
  {
   "cell_type": "code",
   "execution_count": null,
   "metadata": {},
   "outputs": [],
   "source": [
    "# List top users based on number of repositories they contributed\n",
    "query5 = f\"\"\"\n",
    "SELECT user, COUNT(DISTINCT repository_name) AS repository_count\n",
    "FROM {TABLE_NAME}\n",
    "GROUP BY user\n",
    "ORDER BY repository_count DESC\n",
    "LIMIT 10;\n",
    "\"\"\"\n",
    "\n",
    "cursor.execute(query5)\n",
    "result5 = cursor.fetchall()\n",
    "print(result5)\n"
   ]
  },
  {
   "cell_type": "code",
   "execution_count": null,
   "metadata": {},
   "outputs": [],
   "source": [
    "# close the connection\n",
    "cnx.close()"
   ]
  },
  {
   "cell_type": "code",
   "execution_count": null,
   "metadata": {},
   "outputs": [],
   "source": []
  }
 ],
 "metadata": {
  "kernelspec": {
   "display_name": "Python 3",
   "language": "python",
   "name": "python3"
  },
  "language_info": {
   "codemirror_mode": {
    "name": "ipython",
    "version": 3
   },
   "file_extension": ".py",
   "mimetype": "text/x-python",
   "name": "python",
   "nbconvert_exporter": "python",
   "pygments_lexer": "ipython3",
   "version": "3.8.4"
  },
  "orig_nbformat": 4
 },
 "nbformat": 4,
 "nbformat_minor": 2
}
